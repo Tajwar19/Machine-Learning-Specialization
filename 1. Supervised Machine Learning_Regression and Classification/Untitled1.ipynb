{
 "cells": [
  {
   "cell_type": "code",
   "execution_count": 1,
   "id": "fa69e7a1-62f9-48a2-974e-f4b333513cb2",
   "metadata": {},
   "outputs": [],
   "source": [
    "import numpy as np\n",
    "import matplotlib.pyplot as plt"
   ]
  },
  {
   "cell_type": "code",
   "execution_count": 2,
   "id": "663ca55c-4a57-4cc7-be22-080eea06b3e9",
   "metadata": {},
   "outputs": [],
   "source": [
    "X_train = np.array([[2104, 5, 1, 45], [1416, 3, 2, 40], [852, 2, 1, 35]])\n",
    "y_train = np.array([460, 232, 178])\n",
    "\n",
    "b = 785.1811367994083\n",
    "w = np.array([ 0.39133535, 18.75376741, -53.36032453, -26.42131618])"
   ]
  },
  {
   "cell_type": "code",
   "execution_count": 3,
   "id": "9693dbae-a0f6-4b55-a25c-5369ec6c01a4",
   "metadata": {},
   "outputs": [
    {
     "name": "stdout",
     "output_type": "stream",
     "text": [
      "(3, 4)\n"
     ]
    }
   ],
   "source": [
    "print(X_train.shape)"
   ]
  },
  {
   "cell_type": "code",
   "execution_count": 4,
   "id": "a2c51ef3-551d-40ee-9818-7694e695d974",
   "metadata": {},
   "outputs": [
    {
     "name": "stdout",
     "output_type": "stream",
     "text": [
      "3\n",
      "4\n"
     ]
    }
   ],
   "source": [
    "print(X_train.shape[0])\n",
    "print(X_train.shape[1])"
   ]
  },
  {
   "cell_type": "code",
   "execution_count": 5,
   "id": "a77865eb-8776-4485-b749-3cfb3ea08f90",
   "metadata": {},
   "outputs": [
    {
     "name": "stdout",
     "output_type": "stream",
     "text": [
      "[[2104    5    1   45]\n",
      " [1416    3    2   40]\n",
      " [ 852    2    1   35]]\n",
      "[  0.39133535  18.75376741 -53.36032453 -26.42131618]\n",
      "[2104    5    1   45]\n"
     ]
    }
   ],
   "source": [
    "print(X_train)\n",
    "print(w)\n",
    "print(X_train[0])"
   ]
  },
  {
   "cell_type": "code",
   "execution_count": 6,
   "id": "71ffe5f5-7e6a-42ad-b392-77ded8d96c76",
   "metadata": {},
   "outputs": [
    {
     "name": "stdout",
     "output_type": "stream",
     "text": [
      "459.99999761940825\n"
     ]
    }
   ],
   "source": [
    "f_wb_i = np.dot(X_train[0], w) + b\n",
    "print(f_wb_i)"
   ]
  },
  {
   "cell_type": "code",
   "execution_count": 7,
   "id": "67619d5c-0162-46e8-9a8b-7c07baeef381",
   "metadata": {},
   "outputs": [
    {
     "name": "stdout",
     "output_type": "stream",
     "text": [
      "[2104    5    1   45]\n"
     ]
    }
   ],
   "source": [
    "print(X_train[0,:])"
   ]
  },
  {
   "cell_type": "code",
   "execution_count": 8,
   "id": "fcf6bef7-6c04-48ef-ab4c-c834aa6ad210",
   "metadata": {},
   "outputs": [
    {
     "name": "stdout",
     "output_type": "stream",
     "text": [
      "[[2104    5    1   45]\n",
      " [1416    3    2   40]\n",
      " [ 852    2    1   35]]\n",
      "[0. 0. 0. 0.]\n"
     ]
    }
   ],
   "source": [
    "dj_dw = np.zeros((4,))\n",
    "dj_dw = X_train\n",
    "print(dj_dw)\n",
    "\n",
    "dj_dw1 = np.zeros(4)\n",
    "print(dj_dw1)"
   ]
  },
  {
   "cell_type": "code",
   "execution_count": 18,
   "id": "6cb2ebcc-2d13-4283-af85-152f0f29e45d",
   "metadata": {},
   "outputs": [],
   "source": [
    "m = np.arange(10).reshape(-1,5)"
   ]
  },
  {
   "cell_type": "code",
   "execution_count": 19,
   "id": "8fdb3ad5-bf01-4dbb-9c2d-5a0643e763ee",
   "metadata": {},
   "outputs": [
    {
     "name": "stdout",
     "output_type": "stream",
     "text": [
      "[[0 1 2 3 4]\n",
      " [5 6 7 8 9]]\n"
     ]
    }
   ],
   "source": [
    "print(m)"
   ]
  },
  {
   "cell_type": "code",
   "execution_count": 11,
   "id": "81577167-97d7-4101-86d5-2666540ceec4",
   "metadata": {},
   "outputs": [],
   "source": [
    "p,q = X_train.shape"
   ]
  },
  {
   "cell_type": "code",
   "execution_count": 12,
   "id": "6c6855e8-2501-40c5-afe6-3356220697dd",
   "metadata": {},
   "outputs": [
    {
     "name": "stdout",
     "output_type": "stream",
     "text": [
      "3\n"
     ]
    }
   ],
   "source": [
    "print(p)"
   ]
  },
  {
   "cell_type": "code",
   "execution_count": 13,
   "id": "69b2f7ab-f2a3-4705-b400-e36251c82224",
   "metadata": {},
   "outputs": [
    {
     "name": "stdout",
     "output_type": "stream",
     "text": [
      "4\n"
     ]
    }
   ],
   "source": [
    "print(q)"
   ]
  },
  {
   "cell_type": "code",
   "execution_count": 14,
   "id": "d77611e0-ed72-4019-9185-c39d05da609c",
   "metadata": {},
   "outputs": [
    {
     "name": "stdout",
     "output_type": "stream",
     "text": [
      "2\n"
     ]
    }
   ],
   "source": [
    "print(X_train[1,2])"
   ]
  },
  {
   "cell_type": "code",
   "execution_count": 15,
   "id": "da126eb0-1276-4bce-b408-ebc759f17394",
   "metadata": {},
   "outputs": [],
   "source": [
    "def compute_gradient(x,y,w,b):\n",
    "    m,n = x.shape\n",
    "    dj_dw = np.zeros(n)\n",
    "    dj_db = 0\n",
    "    \n",
    "    for i in range(m):\n",
    "        error = (np.dot(x[i],w) + b) - y[i]\n",
    "        \n",
    "        for j in range(n):\n",
    "            dj_dw[j] += error*x[i,j]\n",
    "        \n",
    "        dj_db += error\n",
    "    \n",
    "    dj_dw /= m\n",
    "    dj_db /= n\n",
    "\n",
    "    return dj_dw,dj_db\n",
    "        "
   ]
  },
  {
   "cell_type": "code",
   "execution_count": 16,
   "id": "36bd2e10-0829-48ff-b788-a70f1d656ac4",
   "metadata": {},
   "outputs": [
    {
     "name": "stdout",
     "output_type": "stream",
     "text": [
      "[-2.72623581e-03 -6.27197272e-06 -2.21745580e-06 -6.92403399e-05]\n",
      "-1.2554438768574983e-06\n"
     ]
    }
   ],
   "source": [
    "dj_dw_int,dj_db_int = compute_gradient(X_train,y_train,w,b)\n",
    "print(dj_dw_int)\n",
    "print(dj_db_int)"
   ]
  },
  {
   "cell_type": "code",
   "execution_count": 17,
   "id": "e97c1fa2-7f62-48b5-9740-d602c87badb9",
   "metadata": {},
   "outputs": [],
   "source": [
    "def gradient_discent(x,y,w_in,b_in,gradient_function,alpha,num_iters):\n",
    "\n",
    "    w = copy.deepcopy(w_in)\n",
    "    b = b_in\n",
    "    \n",
    "    for i in range(num_iters):\n",
    "        dj_dw,dj_db = gradient_function(x,y,w,b)\n",
    "        \n",
    "        w -= alpha*dj_dw\n",
    "        b -= alpha*dj_db"
   ]
  },
  {
   "cell_type": "code",
   "execution_count": null,
   "id": "6ac3e2ed-e213-4110-bd9f-db4156291e39",
   "metadata": {},
   "outputs": [],
   "source": []
  }
 ],
 "metadata": {
  "kernelspec": {
   "display_name": "Python 3 (ipykernel)",
   "language": "python",
   "name": "python3"
  },
  "language_info": {
   "codemirror_mode": {
    "name": "ipython",
    "version": 3
   },
   "file_extension": ".py",
   "mimetype": "text/x-python",
   "name": "python",
   "nbconvert_exporter": "python",
   "pygments_lexer": "ipython3",
   "version": "3.12.2"
  }
 },
 "nbformat": 4,
 "nbformat_minor": 5
}
